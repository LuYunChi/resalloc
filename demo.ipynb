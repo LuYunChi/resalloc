{
 "cells": [
  {
   "cell_type": "markdown",
   "metadata": {},
   "source": [
    "# AMShare DEMO"
   ]
  },
  {
   "cell_type": "code",
   "execution_count": 1,
   "metadata": {},
   "outputs": [
    {
     "name": "stdout",
     "output_type": "stream",
     "text": [
      "   ts                                                key  key size  val_size  \\\n",
      "0   0  z44uy84y444444Ux9lnF44i444444TJJ9o84u84444nF44...        72       311   \n",
      "1   0  z44uy84yGiuZZxeWO4nF44i444444sKgsi84u84444CF44...        72       311   \n",
      "2   0                   z44uy84G444444brKS6n44M4444y444=        32       479   \n",
      "3   0                   z44uy84G444444brKS6n44M4444y444=        32       479   \n",
      "4   1  z44uy84yydyN0C9Vv44F44i4444443Keji84u844446F44...        72       311   \n",
      "\n",
      "   tntid   op  ttl  \n",
      "0     61  get    0  \n",
      "1    224  get    0  \n",
      "2    224  get    0  \n",
      "3    224  get    0  \n",
      "4     61  get    0  \n"
     ]
    }
   ],
   "source": [
    "import pandas as pd\n",
    "trace = \"data/trace/selected_data_tenant2_time0-10_iter0.csv\"\n",
    "trace_df = pd.read_csv(trace)\n",
    "print(trace_df.head())"
   ]
  },
  {
   "cell_type": "code",
   "execution_count": 2,
   "metadata": {},
   "outputs": [
    {
     "name": "stdout",
     "output_type": "stream",
     "text": [
      "number of tenants: 2\n"
     ]
    }
   ],
   "source": [
    "from main import *\n",
    "tenants = parse_tenants(trace_df)\n",
    "print(\"number of tenants:\", len(tenants))"
   ]
  },
  {
   "cell_type": "code",
   "execution_count": 3,
   "metadata": {},
   "outputs": [],
   "source": [
    "BACKING_STORE_LATENCY = 3\n",
    "CACHE_RATIO = 0.5\n",
    "CACHE_ALLOCATOR = AMShare"
   ]
  },
  {
   "cell_type": "code",
   "execution_count": 4,
   "metadata": {},
   "outputs": [
    {
     "name": "stdout",
     "output_type": "stream",
     "text": [
      "cache size: 26\n",
      "tenant 61: 1/46\n",
      "tenant 224: 1/8\n",
      "tenant 224: 2/8\n",
      "tenant 224: 3/8\n",
      "tenant 224: 4/8\n",
      "tenant 61: 2/46\n",
      "tenant 224: 5/8\n",
      "tenant 61: 3/46\n",
      "tenant 224: 6/8\n",
      "tenant 61: 4/46\n",
      "tenant 61: 5/46\n",
      "tenant 61: 6/46\n",
      "tenant 61: 7/46\n",
      "tenant 61: 8/46\n",
      "tenant 61: 9/46\n",
      "tenant 61: 10/46\n",
      "tenant 61: 11/46\n",
      "tenant 61: 12/46\n",
      "tenant 224: 7/8\n",
      "tenant 61: 13/46\n",
      "tenant 61: 14/46\n",
      "tenant 61: 15/46\n",
      "tenant 61: 16/46\n",
      "tenant 61: 17/46\n",
      "tenant 61: 18/46\n",
      "tenant 61: 19/46\n",
      "tenant 61: 20/46\n",
      "tenant 61: 21/46\n",
      "tenant 61: 22/46\n",
      "tenant 61: 23/46\n",
      "tenant 61: 24/46\n",
      "tenant 61: 25/46\n",
      "tenant 61: 26/46\n",
      "tenant 61: 27/46\n",
      "tenant 61: 28/46\n",
      "tenant 61: 29/46\n",
      "tenant 61: 30/46\n",
      "tenant 61: 31/46\n",
      "tenant 61: 32/46\n",
      "tenant 61: 33/46\n",
      "tenant 61: 34/46\n",
      "tenant 61: 35/46\n",
      "tenant 61: 36/46\n",
      "tenant 61: 37/46\n",
      "tenant 61: 38/46\n",
      "tenant 61: 39/46\n",
      "tenant 61: 40/46\n",
      "tenant 61: 41/46\n",
      "tenant 61: 42/46\n",
      "tenant 61: 43/46\n",
      "tenant 224: 8/8\n",
      "tenant 61: 44/46\n",
      "tenant 61: 45/46\n",
      "tenant 61: 46/46\n"
     ]
    }
   ],
   "source": [
    "cscheme = CacheScheme(\n",
    "    cache_ratio=CACHE_RATIO,\n",
    "    cache_size=setup_cache_size(trace_df, CACHE_RATIO),\n",
    "    num_tenants=len(tenants),\n",
    "    allocator_class=CACHE_ALLOCATOR)\n",
    "bscheme = BackingStoreScheme(\n",
    "    latency_mu=BACKING_STORE_LATENCY,\n",
    "    latency_sigma=0)\n",
    "dst = f\"results/lat{BACKING_STORE_LATENCY}_cr{CACHE_RATIO}/{get_trace_name(trace)}_{CACHE_ALLOCATOR.__name__}.csv\"\n",
    "main(tenants, cscheme, bscheme, dst)"
   ]
  },
  {
   "cell_type": "code",
   "execution_count": 5,
   "metadata": {},
   "outputs": [
    {
     "name": "stdout",
     "output_type": "stream",
     "text": [
      "    tntid  original_ts   issue_ts  finish_ts    hit\n",
      "0      61            0   0.000473   3.002053  False\n",
      "1      61            1   1.001140   4.003519  False\n",
      "2      61            1   1.003524   4.005008  False\n",
      "3      61            1   1.005010   4.032430  False\n",
      "4      61            1   1.032434   4.058475  False\n",
      "5      61            1   1.058479   4.085197  False\n",
      "6      61            2   2.000000   5.002256  False\n",
      "7      61            2   2.002258   5.012773  False\n",
      "8      61            2   2.012776   5.034114  False\n",
      "9      61            2   2.034117   2.050398   True\n",
      "10     61            2   2.050401   5.066669  False\n",
      "11     61            2   2.066671   5.083218  False\n",
      "12     61            3   3.000634   6.012737  False\n",
      "13     61            3   3.012739   6.039908  False\n",
      "14     61            3   3.039911   6.056517  False\n",
      "15     61            3   3.056519   6.072964  False\n",
      "16     61            4   4.004484   7.010545  False\n",
      "17     61            4   4.010548   7.022025  False\n",
      "18     61            4   4.022028   7.033388  False\n",
      "19     61            4   4.033391   7.049952  False\n",
      "20     61            5   5.000425   8.017169  False\n",
      "21     61            5   5.017172   8.055127  False\n",
      "22     61            5   5.055130   8.097428  False\n",
      "23     61            5   5.097431   8.129605  False\n",
      "24     61            5   5.129608   8.166882  False\n",
      "25     61            5   5.166885   8.214279  False\n",
      "26     61            6   6.001429   9.043704  False\n",
      "27     61            6   6.043708   9.075754  False\n",
      "28     61            6   6.075757   9.108724  False\n",
      "29     61            6   6.108739   9.151977  False\n",
      "30     61            7   7.001751  10.043831  False\n",
      "31     61            7   7.043833  10.086040  False\n",
      "32     61            8   8.005035  11.048080  False\n",
      "33     61            8   8.048084  11.070122  False\n",
      "34     61            8   8.070125  11.101510  False\n",
      "35     61            9   9.000000  12.034947  False\n",
      "36     61            9   9.034957  12.082595  False\n",
      "37     61            9   9.082597  12.134945  False\n",
      "38     61            9   9.134948  12.187654  False\n",
      "39     61            9   9.187657  12.246466  False\n",
      "40     61            9   9.246469  12.268517  False\n",
      "41     61            9   9.268521  12.331319  False\n",
      "42     61            9   9.331322  12.383920  False\n",
      "43     61           10  10.000845  13.002841  False\n",
      "44     61           10  10.002843  13.003918  False\n",
      "45     61           10  10.003920  13.004721  False\n",
      "46    224            0   0.007076   3.018316  False\n",
      "47    224            0   0.018319   3.029860  False\n",
      "48    224            0   0.029863   0.046601   True\n",
      "49    224            1   1.000000   4.002237  False\n",
      "50    224            1   1.002240   4.004009  False\n",
      "51    224            1   1.004012   4.006224  False\n",
      "52    224            3   3.000000   6.002049  False\n",
      "53    224           10  10.000000  13.002318  False\n"
     ]
    }
   ],
   "source": [
    "result = pd.read_csv(dst)\n",
    "print(result)"
   ]
  },
  {
   "cell_type": "code",
   "execution_count": 6,
   "metadata": {},
   "outputs": [
    {
     "name": "stdout",
     "output_type": "stream",
     "text": [
      "Collective hit ratio: 2 / 54\n"
     ]
    }
   ],
   "source": [
    "num_hits = len(result[result[\"hit\"]==True])\n",
    "num_requests = len(result)\n",
    "print(f\"Collective hit ratio: {num_hits} / {num_requests}\")"
   ]
  },
  {
   "cell_type": "code",
   "execution_count": null,
   "metadata": {},
   "outputs": [],
   "source": []
  }
 ],
 "metadata": {
  "kernelspec": {
   "display_name": "582",
   "language": "python",
   "name": "python3"
  },
  "language_info": {
   "codemirror_mode": {
    "name": "ipython",
    "version": 3
   },
   "file_extension": ".py",
   "mimetype": "text/x-python",
   "name": "python",
   "nbconvert_exporter": "python",
   "pygments_lexer": "ipython3",
   "version": "3.9.18"
  }
 },
 "nbformat": 4,
 "nbformat_minor": 2
}
