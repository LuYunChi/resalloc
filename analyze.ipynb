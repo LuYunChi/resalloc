{
 "cells": [
  {
   "cell_type": "code",
   "execution_count": 1,
   "metadata": {},
   "outputs": [],
   "source": [
    "import pandas as pd\n",
    "import matplotlib.pyplot as plt"
   ]
  },
  {
   "cell_type": "code",
   "execution_count": 10,
   "metadata": {},
   "outputs": [
    {
     "ename": "FileNotFoundError",
     "evalue": "[Errno 2] No such file or directory: '/home/yunchi/582/resalloc/results/lat3_cr0.1/selected_data_tenant10_time0-900_iter0_AMShare.csv'",
     "output_type": "error",
     "traceback": [
      "\u001b[0;31m---------------------------------------------------------------------------\u001b[0m",
      "\u001b[0;31mFileNotFoundError\u001b[0m                         Traceback (most recent call last)",
      "\u001b[1;32m/home/yunchi/582/resalloc/analyze.ipynb Cell 2\u001b[0m line \u001b[0;36m7\n\u001b[1;32m      <a href='vscode-notebook-cell://ssh-remote%2Brazor6/home/yunchi/582/resalloc/analyze.ipynb#W2sdnNjb2RlLXJlbW90ZQ%3D%3D?line=3'>4</a>\u001b[0m CACHE_SIZE_RATIO \u001b[39m=\u001b[39m \u001b[39m0.1\u001b[39m\n\u001b[1;32m      <a href='vscode-notebook-cell://ssh-remote%2Brazor6/home/yunchi/582/resalloc/analyze.ipynb#W2sdnNjb2RlLXJlbW90ZQ%3D%3D?line=5'>6</a>\u001b[0m RESULT_DIR \u001b[39m=\u001b[39m \u001b[39m\"\u001b[39m\u001b[39m/home/yunchi/582/resalloc/results/\u001b[39m\u001b[39m\"\u001b[39m\n\u001b[0;32m----> <a href='vscode-notebook-cell://ssh-remote%2Brazor6/home/yunchi/582/resalloc/analyze.ipynb#W2sdnNjb2RlLXJlbW90ZQ%3D%3D?line=6'>7</a>\u001b[0m ams_df \u001b[39m=\u001b[39m pd\u001b[39m.\u001b[39;49mread_csv(RESULT_DIR \u001b[39m+\u001b[39;49m \n\u001b[1;32m      <a href='vscode-notebook-cell://ssh-remote%2Brazor6/home/yunchi/582/resalloc/analyze.ipynb#W2sdnNjb2RlLXJlbW90ZQ%3D%3D?line=7'>8</a>\u001b[0m     \u001b[39mf\u001b[39;49m\u001b[39m\"\u001b[39;49m\u001b[39mlat\u001b[39;49m\u001b[39m{\u001b[39;49;00mLAT_MU\u001b[39m}\u001b[39;49;00m\u001b[39m_cr\u001b[39;49m\u001b[39m{\u001b[39;49;00mCACHE_SIZE_RATIO\u001b[39m}\u001b[39;49;00m\u001b[39m/selected_data_tenant\u001b[39;49m\u001b[39m{\u001b[39;49;00mTENANT_NUM\u001b[39m}\u001b[39;49;00m\u001b[39m_time0-\u001b[39;49m\u001b[39m{\u001b[39;49;00mDURATION\u001b[39m}\u001b[39;49;00m\u001b[39m_iter0_AMShare.csv\u001b[39;49m\u001b[39m\"\u001b[39;49m\n\u001b[1;32m      <a href='vscode-notebook-cell://ssh-remote%2Brazor6/home/yunchi/582/resalloc/analyze.ipynb#W2sdnNjb2RlLXJlbW90ZQ%3D%3D?line=8'>9</a>\u001b[0m )\n\u001b[1;32m     <a href='vscode-notebook-cell://ssh-remote%2Brazor6/home/yunchi/582/resalloc/analyze.ipynb#W2sdnNjb2RlLXJlbW90ZQ%3D%3D?line=9'>10</a>\u001b[0m glob_df \u001b[39m=\u001b[39m pd\u001b[39m.\u001b[39mread_csv(RESULT_DIR \u001b[39m+\u001b[39m\n\u001b[1;32m     <a href='vscode-notebook-cell://ssh-remote%2Brazor6/home/yunchi/582/resalloc/analyze.ipynb#W2sdnNjb2RlLXJlbW90ZQ%3D%3D?line=10'>11</a>\u001b[0m     \u001b[39mf\u001b[39m\u001b[39m\"\u001b[39m\u001b[39mlat\u001b[39m\u001b[39m{\u001b[39;00mLAT_MU\u001b[39m}\u001b[39;00m\u001b[39m_cr\u001b[39m\u001b[39m{\u001b[39;00mCACHE_SIZE_RATIO\u001b[39m}\u001b[39;00m\u001b[39m/selected_data_tenant\u001b[39m\u001b[39m{\u001b[39;00mTENANT_NUM\u001b[39m}\u001b[39;00m\u001b[39m_time0-\u001b[39m\u001b[39m{\u001b[39;00mDURATION\u001b[39m}\u001b[39;00m\u001b[39m_iter0_GlobalLRU.csv\u001b[39m\u001b[39m\"\u001b[39m\n\u001b[1;32m     <a href='vscode-notebook-cell://ssh-remote%2Brazor6/home/yunchi/582/resalloc/analyze.ipynb#W2sdnNjb2RlLXJlbW90ZQ%3D%3D?line=11'>12</a>\u001b[0m )\n\u001b[1;32m     <a href='vscode-notebook-cell://ssh-remote%2Brazor6/home/yunchi/582/resalloc/analyze.ipynb#W2sdnNjb2RlLXJlbW90ZQ%3D%3D?line=12'>13</a>\u001b[0m maxmin_df \u001b[39m=\u001b[39m pd\u001b[39m.\u001b[39mread_csv(RESULT_DIR \u001b[39m+\u001b[39m\n\u001b[1;32m     <a href='vscode-notebook-cell://ssh-remote%2Brazor6/home/yunchi/582/resalloc/analyze.ipynb#W2sdnNjb2RlLXJlbW90ZQ%3D%3D?line=13'>14</a>\u001b[0m     \u001b[39mf\u001b[39m\u001b[39m\"\u001b[39m\u001b[39mlat\u001b[39m\u001b[39m{\u001b[39;00mLAT_MU\u001b[39m}\u001b[39;00m\u001b[39m_cr\u001b[39m\u001b[39m{\u001b[39;00mCACHE_SIZE_RATIO\u001b[39m}\u001b[39;00m\u001b[39m/selected_data_tenant\u001b[39m\u001b[39m{\u001b[39;00mTENANT_NUM\u001b[39m}\u001b[39;00m\u001b[39m_time0-\u001b[39m\u001b[39m{\u001b[39;00mDURATION\u001b[39m}\u001b[39;00m\u001b[39m_iter0_Max-Min.csv\u001b[39m\u001b[39m\"\u001b[39m\n\u001b[1;32m     <a href='vscode-notebook-cell://ssh-remote%2Brazor6/home/yunchi/582/resalloc/analyze.ipynb#W2sdnNjb2RlLXJlbW90ZQ%3D%3D?line=14'>15</a>\u001b[0m )\n",
      "File \u001b[0;32m~/miniconda3/envs/582/lib/python3.9/site-packages/pandas/io/parsers/readers.py:948\u001b[0m, in \u001b[0;36mread_csv\u001b[0;34m(filepath_or_buffer, sep, delimiter, header, names, index_col, usecols, dtype, engine, converters, true_values, false_values, skipinitialspace, skiprows, skipfooter, nrows, na_values, keep_default_na, na_filter, verbose, skip_blank_lines, parse_dates, infer_datetime_format, keep_date_col, date_parser, date_format, dayfirst, cache_dates, iterator, chunksize, compression, thousands, decimal, lineterminator, quotechar, quoting, doublequote, escapechar, comment, encoding, encoding_errors, dialect, on_bad_lines, delim_whitespace, low_memory, memory_map, float_precision, storage_options, dtype_backend)\u001b[0m\n\u001b[1;32m    935\u001b[0m kwds_defaults \u001b[39m=\u001b[39m _refine_defaults_read(\n\u001b[1;32m    936\u001b[0m     dialect,\n\u001b[1;32m    937\u001b[0m     delimiter,\n\u001b[0;32m   (...)\u001b[0m\n\u001b[1;32m    944\u001b[0m     dtype_backend\u001b[39m=\u001b[39mdtype_backend,\n\u001b[1;32m    945\u001b[0m )\n\u001b[1;32m    946\u001b[0m kwds\u001b[39m.\u001b[39mupdate(kwds_defaults)\n\u001b[0;32m--> 948\u001b[0m \u001b[39mreturn\u001b[39;00m _read(filepath_or_buffer, kwds)\n",
      "File \u001b[0;32m~/miniconda3/envs/582/lib/python3.9/site-packages/pandas/io/parsers/readers.py:611\u001b[0m, in \u001b[0;36m_read\u001b[0;34m(filepath_or_buffer, kwds)\u001b[0m\n\u001b[1;32m    608\u001b[0m _validate_names(kwds\u001b[39m.\u001b[39mget(\u001b[39m\"\u001b[39m\u001b[39mnames\u001b[39m\u001b[39m\"\u001b[39m, \u001b[39mNone\u001b[39;00m))\n\u001b[1;32m    610\u001b[0m \u001b[39m# Create the parser.\u001b[39;00m\n\u001b[0;32m--> 611\u001b[0m parser \u001b[39m=\u001b[39m TextFileReader(filepath_or_buffer, \u001b[39m*\u001b[39;49m\u001b[39m*\u001b[39;49mkwds)\n\u001b[1;32m    613\u001b[0m \u001b[39mif\u001b[39;00m chunksize \u001b[39mor\u001b[39;00m iterator:\n\u001b[1;32m    614\u001b[0m     \u001b[39mreturn\u001b[39;00m parser\n",
      "File \u001b[0;32m~/miniconda3/envs/582/lib/python3.9/site-packages/pandas/io/parsers/readers.py:1448\u001b[0m, in \u001b[0;36mTextFileReader.__init__\u001b[0;34m(self, f, engine, **kwds)\u001b[0m\n\u001b[1;32m   1445\u001b[0m     \u001b[39mself\u001b[39m\u001b[39m.\u001b[39moptions[\u001b[39m\"\u001b[39m\u001b[39mhas_index_names\u001b[39m\u001b[39m\"\u001b[39m] \u001b[39m=\u001b[39m kwds[\u001b[39m\"\u001b[39m\u001b[39mhas_index_names\u001b[39m\u001b[39m\"\u001b[39m]\n\u001b[1;32m   1447\u001b[0m \u001b[39mself\u001b[39m\u001b[39m.\u001b[39mhandles: IOHandles \u001b[39m|\u001b[39m \u001b[39mNone\u001b[39;00m \u001b[39m=\u001b[39m \u001b[39mNone\u001b[39;00m\n\u001b[0;32m-> 1448\u001b[0m \u001b[39mself\u001b[39m\u001b[39m.\u001b[39m_engine \u001b[39m=\u001b[39m \u001b[39mself\u001b[39;49m\u001b[39m.\u001b[39;49m_make_engine(f, \u001b[39mself\u001b[39;49m\u001b[39m.\u001b[39;49mengine)\n",
      "File \u001b[0;32m~/miniconda3/envs/582/lib/python3.9/site-packages/pandas/io/parsers/readers.py:1705\u001b[0m, in \u001b[0;36mTextFileReader._make_engine\u001b[0;34m(self, f, engine)\u001b[0m\n\u001b[1;32m   1703\u001b[0m     \u001b[39mif\u001b[39;00m \u001b[39m\"\u001b[39m\u001b[39mb\u001b[39m\u001b[39m\"\u001b[39m \u001b[39mnot\u001b[39;00m \u001b[39min\u001b[39;00m mode:\n\u001b[1;32m   1704\u001b[0m         mode \u001b[39m+\u001b[39m\u001b[39m=\u001b[39m \u001b[39m\"\u001b[39m\u001b[39mb\u001b[39m\u001b[39m\"\u001b[39m\n\u001b[0;32m-> 1705\u001b[0m \u001b[39mself\u001b[39m\u001b[39m.\u001b[39mhandles \u001b[39m=\u001b[39m get_handle(\n\u001b[1;32m   1706\u001b[0m     f,\n\u001b[1;32m   1707\u001b[0m     mode,\n\u001b[1;32m   1708\u001b[0m     encoding\u001b[39m=\u001b[39;49m\u001b[39mself\u001b[39;49m\u001b[39m.\u001b[39;49moptions\u001b[39m.\u001b[39;49mget(\u001b[39m\"\u001b[39;49m\u001b[39mencoding\u001b[39;49m\u001b[39m\"\u001b[39;49m, \u001b[39mNone\u001b[39;49;00m),\n\u001b[1;32m   1709\u001b[0m     compression\u001b[39m=\u001b[39;49m\u001b[39mself\u001b[39;49m\u001b[39m.\u001b[39;49moptions\u001b[39m.\u001b[39;49mget(\u001b[39m\"\u001b[39;49m\u001b[39mcompression\u001b[39;49m\u001b[39m\"\u001b[39;49m, \u001b[39mNone\u001b[39;49;00m),\n\u001b[1;32m   1710\u001b[0m     memory_map\u001b[39m=\u001b[39;49m\u001b[39mself\u001b[39;49m\u001b[39m.\u001b[39;49moptions\u001b[39m.\u001b[39;49mget(\u001b[39m\"\u001b[39;49m\u001b[39mmemory_map\u001b[39;49m\u001b[39m\"\u001b[39;49m, \u001b[39mFalse\u001b[39;49;00m),\n\u001b[1;32m   1711\u001b[0m     is_text\u001b[39m=\u001b[39;49mis_text,\n\u001b[1;32m   1712\u001b[0m     errors\u001b[39m=\u001b[39;49m\u001b[39mself\u001b[39;49m\u001b[39m.\u001b[39;49moptions\u001b[39m.\u001b[39;49mget(\u001b[39m\"\u001b[39;49m\u001b[39mencoding_errors\u001b[39;49m\u001b[39m\"\u001b[39;49m, \u001b[39m\"\u001b[39;49m\u001b[39mstrict\u001b[39;49m\u001b[39m\"\u001b[39;49m),\n\u001b[1;32m   1713\u001b[0m     storage_options\u001b[39m=\u001b[39;49m\u001b[39mself\u001b[39;49m\u001b[39m.\u001b[39;49moptions\u001b[39m.\u001b[39;49mget(\u001b[39m\"\u001b[39;49m\u001b[39mstorage_options\u001b[39;49m\u001b[39m\"\u001b[39;49m, \u001b[39mNone\u001b[39;49;00m),\n\u001b[1;32m   1714\u001b[0m )\n\u001b[1;32m   1715\u001b[0m \u001b[39massert\u001b[39;00m \u001b[39mself\u001b[39m\u001b[39m.\u001b[39mhandles \u001b[39mis\u001b[39;00m \u001b[39mnot\u001b[39;00m \u001b[39mNone\u001b[39;00m\n\u001b[1;32m   1716\u001b[0m f \u001b[39m=\u001b[39m \u001b[39mself\u001b[39m\u001b[39m.\u001b[39mhandles\u001b[39m.\u001b[39mhandle\n",
      "File \u001b[0;32m~/miniconda3/envs/582/lib/python3.9/site-packages/pandas/io/common.py:863\u001b[0m, in \u001b[0;36mget_handle\u001b[0;34m(path_or_buf, mode, encoding, compression, memory_map, is_text, errors, storage_options)\u001b[0m\n\u001b[1;32m    858\u001b[0m \u001b[39melif\u001b[39;00m \u001b[39misinstance\u001b[39m(handle, \u001b[39mstr\u001b[39m):\n\u001b[1;32m    859\u001b[0m     \u001b[39m# Check whether the filename is to be opened in binary mode.\u001b[39;00m\n\u001b[1;32m    860\u001b[0m     \u001b[39m# Binary mode does not support 'encoding' and 'newline'.\u001b[39;00m\n\u001b[1;32m    861\u001b[0m     \u001b[39mif\u001b[39;00m ioargs\u001b[39m.\u001b[39mencoding \u001b[39mand\u001b[39;00m \u001b[39m\"\u001b[39m\u001b[39mb\u001b[39m\u001b[39m\"\u001b[39m \u001b[39mnot\u001b[39;00m \u001b[39min\u001b[39;00m ioargs\u001b[39m.\u001b[39mmode:\n\u001b[1;32m    862\u001b[0m         \u001b[39m# Encoding\u001b[39;00m\n\u001b[0;32m--> 863\u001b[0m         handle \u001b[39m=\u001b[39m \u001b[39mopen\u001b[39;49m(\n\u001b[1;32m    864\u001b[0m             handle,\n\u001b[1;32m    865\u001b[0m             ioargs\u001b[39m.\u001b[39;49mmode,\n\u001b[1;32m    866\u001b[0m             encoding\u001b[39m=\u001b[39;49mioargs\u001b[39m.\u001b[39;49mencoding,\n\u001b[1;32m    867\u001b[0m             errors\u001b[39m=\u001b[39;49merrors,\n\u001b[1;32m    868\u001b[0m             newline\u001b[39m=\u001b[39;49m\u001b[39m\"\u001b[39;49m\u001b[39m\"\u001b[39;49m,\n\u001b[1;32m    869\u001b[0m         )\n\u001b[1;32m    870\u001b[0m     \u001b[39melse\u001b[39;00m:\n\u001b[1;32m    871\u001b[0m         \u001b[39m# Binary mode\u001b[39;00m\n\u001b[1;32m    872\u001b[0m         handle \u001b[39m=\u001b[39m \u001b[39mopen\u001b[39m(handle, ioargs\u001b[39m.\u001b[39mmode)\n",
      "\u001b[0;31mFileNotFoundError\u001b[0m: [Errno 2] No such file or directory: '/home/yunchi/582/resalloc/results/lat3_cr0.1/selected_data_tenant10_time0-900_iter0_AMShare.csv'"
     ]
    }
   ],
   "source": [
    "TENANT_NUM = 50\n",
    "DURATION = 900\n",
    "LAT_MU = 3\n",
    "CACHE_SIZE_RATIO = 0.1\n",
    "\n",
    "RESULT_DIR = \"/home/yunchi/582/resalloc/results/\"\n",
    "ams_df = pd.read_csv(RESULT_DIR + \n",
    "    f\"lat{LAT_MU}_cr{CACHE_SIZE_RATIO}/selected_data_tenant{TENANT_NUM}_time0-{DURATION}_iter0_AMShare.csv\"\n",
    ")\n",
    "glob_df = pd.read_csv(RESULT_DIR +\n",
    "    f\"lat{LAT_MU}_cr{CACHE_SIZE_RATIO}/selected_data_tenant{TENANT_NUM}_time0-{DURATION}_iter0_GlobalLRU.csv\"\n",
    ")\n",
    "maxmin_df = pd.read_csv(RESULT_DIR +\n",
    "    f\"lat{LAT_MU}_cr{CACHE_SIZE_RATIO}/selected_data_tenant{TENANT_NUM}_time0-{DURATION}_iter0_Max-Min.csv\"\n",
    ")"
   ]
  },
  {
   "cell_type": "code",
   "execution_count": 11,
   "metadata": {},
   "outputs": [
    {
     "name": "stdout",
     "output_type": "stream",
     "text": [
      "--------------------\n",
      "collective lat_ratio: 0.9722596447582316\n",
      "collective hitrate_ratio: 1.0518203170874927\n",
      "2534 lat_ratio: 0.9813337605416346\n",
      "2534 hitrate_ratio: 1.0368020304568528\n",
      "4903 lat_ratio: 0.9773816660244659\n",
      "4903 hitrate_ratio: 1.0448833034111311\n",
      "5783 lat_ratio: 0.9848279118084923\n",
      "5783 hitrate_ratio: 1.0288461538461537\n",
      "3179 lat_ratio: 0.9546880680897128\n",
      "3179 hitrate_ratio: 1.0684793554884189\n",
      "2990 lat_ratio: 0.9687461179986963\n",
      "2990 hitrate_ratio: 1.0635245901639345\n",
      "1392 lat_ratio: 0.978896080808269\n",
      "1392 hitrate_ratio: 1.0463458110516934\n",
      "2480 lat_ratio: 0.9775828688312166\n",
      "2480 hitrate_ratio: 1.0361111111111112\n",
      "2263 lat_ratio: 0.9681401477902762\n",
      "2263 hitrate_ratio: 1.081237911025145\n",
      "1304 lat_ratio: 0.9708893151312658\n",
      "1304 hitrate_ratio: 1.0643382352941178\n",
      "4889 lat_ratio: 0.9659962324930459\n",
      "4889 hitrate_ratio: 1.054585152838428\n",
      "--------------------\n",
      "collective lat_ratio: 0.9678345795561019\n",
      "collective hitrate_ratio: 1.0646359583952452\n",
      "2534 lat_ratio: 0.957060761273327\n",
      "2534 hitrate_ratio: 1.0878828229027964\n",
      "4903 lat_ratio: 1.0046436067530227\n",
      "4903 hitrate_ratio: 0.9982847341337907\n",
      "5783 lat_ratio: 0.957993441428627\n",
      "5783 hitrate_ratio: 1.0808080808080809\n",
      "3179 lat_ratio: 0.9132917626141205\n",
      "3179 hitrate_ratio: 1.1482683982683983\n",
      "2990 lat_ratio: 0.9925592034258128\n",
      "2990 hitrate_ratio: 1.0196463654223968\n",
      "1392 lat_ratio: 1.0022418808095885\n",
      "1392 hitrate_ratio: 1.0034188034188034\n",
      "2480 lat_ratio: 0.972953452380001\n",
      "2480 hitrate_ratio: 1.0507042253521126\n",
      "2263 lat_ratio: 1.0040930048423204\n",
      "2263 hitrate_ratio: 1.0053956834532374\n",
      "1304 lat_ratio: 1.0141653490293998\n",
      "1304 hitrate_ratio: 0.9846938775510204\n",
      "4889 lat_ratio: 0.9129872198450268\n",
      "4889 hitrate_ratio: 1.1624548736462095\n"
     ]
    }
   ],
   "source": [
    "tntids = set(ams_df[\"tntid\"])\n",
    "for base_df in [glob_df, maxmin_df]:\n",
    "    print(\"-\"*20)\n",
    "    avg_lat_ams = (ams_df[\"finish_ts\"]-ams_df[\"issue_ts\"]).mean()\n",
    "    avg_lat_base = (base_df[\"finish_ts\"]-base_df[\"issue_ts\"]).mean()\n",
    "    print(\"collective lat_ratio:\", avg_lat_ams/avg_lat_base)\n",
    "\n",
    "    hit_ams = len(ams_df[ams_df[\"hit\"] == True])\n",
    "    hit_base = len(base_df[base_df[\"hit\"] == True])\n",
    "    print(\"collective hitrate_ratio:\", hit_ams/hit_base)\n",
    "\n",
    "    for t in tntids:\n",
    "        ams_tdf = ams_df[ams_df[\"tntid\"] == t]\n",
    "        base_tdf = base_df[base_df[\"tntid\"] == t]\n",
    "        \n",
    "        avg_lat_ams = (ams_tdf[\"finish_ts\"]-ams_tdf[\"issue_ts\"]).mean()\n",
    "        avg_lat_base = (base_tdf[\"finish_ts\"]-base_tdf[\"issue_ts\"]).mean()\n",
    "        print(t, \"lat_ratio:\", avg_lat_ams/avg_lat_base)\n",
    "        \n",
    "        hit_ams = len(ams_tdf[ams_tdf[\"hit\"] == True])\n",
    "        hit_base = len(base_tdf[base_tdf[\"hit\"] == True])\n",
    "        print(t, \"hitrate_ratio:\", hit_ams/hit_base)"
   ]
  },
  {
   "cell_type": "code",
   "execution_count": null,
   "metadata": {},
   "outputs": [],
   "source": []
  },
  {
   "cell_type": "code",
   "execution_count": null,
   "metadata": {},
   "outputs": [],
   "source": []
  }
 ],
 "metadata": {
  "kernelspec": {
   "display_name": "582",
   "language": "python",
   "name": "python3"
  },
  "language_info": {
   "codemirror_mode": {
    "name": "ipython",
    "version": 3
   },
   "file_extension": ".py",
   "mimetype": "text/x-python",
   "name": "python",
   "nbconvert_exporter": "python",
   "pygments_lexer": "ipython3",
   "version": "3.9.18"
  }
 },
 "nbformat": 4,
 "nbformat_minor": 2
}
