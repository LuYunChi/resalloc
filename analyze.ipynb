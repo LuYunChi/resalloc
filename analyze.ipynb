{
 "cells": [
  {
   "cell_type": "code",
   "execution_count": 31,
   "metadata": {},
   "outputs": [],
   "source": [
    "import pandas as pd\n",
    "import matplotlib.pyplot as plt"
   ]
  },
  {
   "cell_type": "code",
   "execution_count": 47,
   "metadata": {},
   "outputs": [],
   "source": [
    "WINDOW_SIZE = 5\n",
    "\n",
    "def get_lats(df, ws=WINDOW_SIZE):\n",
    "    max_t = df[\"finish_ts\"].max()\n",
    "    ts = [t for t in range(int(max_t)+2)]\n",
    "    lats = []\n",
    "    for t in ts:\n",
    "        d = df[(t-ws < df[\"finish_ts\"]) & (df[\"finish_ts\"] <= t)]\n",
    "        lat = (d[\"finish_ts\"]-d[\"issue_ts\"]).mean()\n",
    "        lats.append(lat)\n",
    "    return ts, lats\n",
    "\n",
    "\n",
    "def get_hrs(df, ws=WINDOW_SIZE):\n",
    "    max_t = df[\"finish_ts\"].max()\n",
    "    ts = [t for t in range(int(max_t)+2)]\n",
    "    hrs = []\n",
    "    for t in ts:\n",
    "        d = df[(t-ws < df[\"finish_ts\"]) & (df[\"finish_ts\"] <= t)]\n",
    "        h = len(d[d[\"hit\"] == True])/ws\n",
    "        hrs.append(h)\n",
    "    return ts, hrs"
   ]
  },
  {
   "cell_type": "code",
   "execution_count": 37,
   "metadata": {},
   "outputs": [],
   "source": [
    "TENANT_NUM = 3\n",
    "DURATION = 900\n",
    "\n",
    "ams_df = pd.read_csv(\n",
    "    f\"/home/yunchi/582/resalloc/results/selected_data_tenant{TENANT_NUM}_time0-{DURATION}_iter0_AMShare.csv\"\n",
    ")\n",
    "glob_df = pd.read_csv(\n",
    "    f\"/home/yunchi/582/resalloc/results/selected_data_tenant{TENANT_NUM}_time0-{DURATION}_iter0_GlobalLRU.csv\"\n",
    ")\n",
    "maxmin_df = pd.read_csv(\n",
    "    f\"/home/yunchi/582/resalloc/results/selected_data_tenant{TENANT_NUM}_time0-{DURATION}_iter0_Max-Min.csv\"\n",
    ")"
   ]
  },
  {
   "cell_type": "code",
   "execution_count": 50,
   "metadata": {},
   "outputs": [
    {
     "name": "stdout",
     "output_type": "stream",
     "text": [
      "{4192, 3507, 4548}\n"
     ]
    }
   ],
   "source": [
    "tntids = set(ams_df[\"tntid\"])\n",
    "print(tntids)"
   ]
  },
  {
   "cell_type": "code",
   "execution_count": 48,
   "metadata": {},
   "outputs": [],
   "source": [
    "tntid = 4192\n",
    "base_df = maxmin_df\n",
    "comp = get_hrs\n",
    "# comp = get_lats\n",
    "\n",
    "ams_ts, ams_lats = comp(ams_df[ams_df[\"tntid\"] == tntid], WINDOW_SIZE)\n",
    "base_ts, base_lats = comp(base_df[base_df[\"tntid\"] == tntid], WINDOW_SIZE)\n",
    "len_t = min(len(ams_ts), len(base_ts))"
   ]
  },
  {
   "cell_type": "code",
   "execution_count": 45,
   "metadata": {},
   "outputs": [
    {
     "name": "stdout",
     "output_type": "stream",
     "text": [
      "0.0\n"
     ]
    },
    {
     "data": {
      "text/plain": [
       "<matplotlib.collections.PathCollection at 0x7fd63640fe50>"
      ]
     },
     "execution_count": 45,
     "metadata": {},
     "output_type": "execute_result"
    },
    {
     "data": {
      "image/png": "[encoded data removed]",
      "text/plain": [
       "<Figure size 640x480 with 1 Axes>"
      ]
     },
     "metadata": {},
     "output_type": "display_data"
    }
   ],
   "source": [
    "\n",
    "lats_ratio = []\n",
    "print(ams_lats[0])\n",
    "for al, bl in zip(ams_lats[:len_t], base_lats[:len_t]):\n",
    "    if bl:\n",
    "        lats_ratio.append(al/bl)\n",
    "    else:\n",
    "        lats_ratio.append(0)\n",
    "plt.scatter(list(range(len_t)), lats_ratio)\n",
    "# plt.ylim(0, 2)"
   ]
  },
  {
   "cell_type": "code",
   "execution_count": 52,
   "metadata": {},
   "outputs": [
    {
     "name": "stdout",
     "output_type": "stream",
     "text": [
      "lat_ratio: 0.9611297770275046\n",
      "lat_ratio: 0.9437629876386441\n",
      "lat_ratio: 0.9499238475058316\n"
     ]
    }
   ],
   "source": [
    "for t in tntids:\n",
    "    ams_tdf = ams_df[ams_df[\"tntid\"] == t]\n",
    "    base_tdf = base_df[base_df[\"tntid\"] == t]\n",
    "    \n",
    "    avg_lat_ams = (ams_tdf[\"finish_ts\"]-ams_tdf[\"issue_ts\"]).mean()\n",
    "    avg_lat_base = (base_tdf[\"finish_ts\"]-base_tdf[\"issue_ts\"]).mean()\n",
    "    print(\"lat_ratio:\", avg_lat_ams/avg_lat_base)\n",
    "    \n",
    "    hit_ams = len(ams_tdf[ams_tdf[\"hit\"] == True])\n",
    "    hit_base = len(base_tdf[ams_tdf[\"hit\"] == True])\n",
    "    print(\"hitrate_ratio:\", hit_ams/hit_base)"
   ]
  },
  {
   "cell_type": "code",
   "execution_count": null,
   "metadata": {},
   "outputs": [],
   "source": []
  }
 ],
 "metadata": {
  "kernelspec": {
   "display_name": "582",
   "language": "python",
   "name": "python3"
  },
  "language_info": {
   "codemirror_mode": {
    "name": "ipython",
    "version": 3
   },
   "file_extension": ".py",
   "mimetype": "text/x-python",
   "name": "python",
   "nbconvert_exporter": "python",
   "pygments_lexer": "ipython3",
   "version": "3.9.18"
  }
 },
 "nbformat": 4,
 "nbformat_minor": 2
}
