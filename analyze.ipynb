{
 "cells": [
  {
   "cell_type": "code",
   "execution_count": 1,
   "metadata": {},
   "outputs": [],
   "source": [
    "import pandas as pd\n",
    "import matplotlib.pyplot as plt"
   ]
  },
  {
   "cell_type": "code",
   "execution_count": 9,
   "metadata": {},
   "outputs": [],
   "source": [
    "TENANT_NUM = 2\n",
    "DURATION = 900\n",
    "LAT_MU = 3\n",
    "CACHE_SIZE_RATIO = 0.5\n",
    "\n",
    "RESULT_DIR = \"/home/yunchi/582/resalloc/results/\"\n",
    "ams_df = pd.read_csv(RESULT_DIR + \n",
    "    f\"lat{LAT_MU}_cr{CACHE_SIZE_RATIO}/selected_data_tenant{TENANT_NUM}_time0-{DURATION}_iter0_AMShare.csv\"\n",
    ")\n",
    "glob_df = pd.read_csv(RESULT_DIR +\n",
    "    f\"lat{LAT_MU}_cr{CACHE_SIZE_RATIO}/selected_data_tenant{TENANT_NUM}_time0-{DURATION}_iter0_GlobalLRU.csv\"\n",
    ")\n",
    "maxmin_df = pd.read_csv(RESULT_DIR +\n",
    "    f\"lat{LAT_MU}_cr{CACHE_SIZE_RATIO}/selected_data_tenant{TENANT_NUM}_time0-{DURATION}_iter0_Max-Min.csv\"\n",
    ")\n",
    "memshare_df = pd.read_csv(RESULT_DIR +\n",
    "    f\"lat{LAT_MU}_cr{CACHE_SIZE_RATIO}/selected_data_tenant{TENANT_NUM}_time0-{DURATION}_iter0_Memshare.csv\"\n",
    ")"
   ]
  },
  {
   "cell_type": "code",
   "execution_count": 10,
   "metadata": {},
   "outputs": [
    {
     "name": "stdout",
     "output_type": "stream",
     "text": [
      "--------------------\n",
      "collective lat_ratio: 0.9722596447582316\n",
      "collective hitrate_ratio: 1.0518203170874927\n",
      "2534 lat_ratio: 0.9813337605416346\n",
      "2534 hitrate_ratio: 1.0368020304568528\n",
      "4903 lat_ratio: 0.9773816660244659\n",
      "4903 hitrate_ratio: 1.0448833034111311\n",
      "5783 lat_ratio: 0.9848279118084923\n",
      "5783 hitrate_ratio: 1.0288461538461537\n",
      "3179 lat_ratio: 0.9546880680897128\n",
      "3179 hitrate_ratio: 1.0684793554884189\n",
      "2990 lat_ratio: 0.9687461179986963\n",
      "2990 hitrate_ratio: 1.0635245901639345\n",
      "1392 lat_ratio: 0.978896080808269\n",
      "1392 hitrate_ratio: 1.0463458110516934\n",
      "2480 lat_ratio: 0.9775828688312166\n",
      "2480 hitrate_ratio: 1.0361111111111112\n",
      "2263 lat_ratio: 0.9681401477902762\n",
      "2263 hitrate_ratio: 1.081237911025145\n",
      "1304 lat_ratio: 0.9708893151312658\n",
      "1304 hitrate_ratio: 1.0643382352941178\n",
      "4889 lat_ratio: 0.9659962324930459\n",
      "4889 hitrate_ratio: 1.054585152838428\n",
      "--------------------\n",
      "collective lat_ratio: 0.9678345795561019\n",
      "collective hitrate_ratio: 1.0646359583952452\n",
      "2534 lat_ratio: 0.957060761273327\n",
      "2534 hitrate_ratio: 1.0878828229027964\n",
      "4903 lat_ratio: 1.0046436067530227\n",
      "4903 hitrate_ratio: 0.9982847341337907\n",
      "5783 lat_ratio: 0.957993441428627\n",
      "5783 hitrate_ratio: 1.0808080808080809\n",
      "3179 lat_ratio: 0.9132917626141205\n",
      "3179 hitrate_ratio: 1.1482683982683983\n",
      "2990 lat_ratio: 0.9925592034258128\n",
      "2990 hitrate_ratio: 1.0196463654223968\n",
      "1392 lat_ratio: 1.0022418808095885\n",
      "1392 hitrate_ratio: 1.0034188034188034\n",
      "2480 lat_ratio: 0.972953452380001\n",
      "2480 hitrate_ratio: 1.0507042253521126\n",
      "2263 lat_ratio: 1.0040930048423204\n",
      "2263 hitrate_ratio: 1.0053956834532374\n",
      "1304 lat_ratio: 1.0141653490293998\n",
      "1304 hitrate_ratio: 0.9846938775510204\n",
      "4889 lat_ratio: 0.9129872198450268\n",
      "4889 hitrate_ratio: 1.1624548736462095\n",
      "--------------------\n",
      "collective lat_ratio: 0.9576360728051111\n",
      "collective hitrate_ratio: 1.0541415330292776\n",
      "2534 lat_ratio: 0.9582777454732258\n",
      "2534 hitrate_ratio: 1.0341772151898734\n",
      "4903 lat_ratio: 0.979288390741416\n",
      "4903 hitrate_ratio: 1.0139372822299653\n",
      "5783 lat_ratio: 0.9406058382000333\n",
      "5783 hitrate_ratio: 1.0684736091298146\n",
      "3179 lat_ratio: 0.9444159812182005\n",
      "3179 hitrate_ratio: 1.0859774820880246\n",
      "2990 lat_ratio: 0.9586417863055663\n",
      "2990 hitrate_ratio: 1.0484848484848486\n",
      "1392 lat_ratio: 0.9827600016323067\n",
      "1392 hitrate_ratio: 1.0138169257340242\n",
      "2480 lat_ratio: 0.9604670632081954\n",
      "2480 hitrate_ratio: 1.0233196159122084\n",
      "2263 lat_ratio: 0.9691525217415169\n",
      "2263 hitrate_ratio: 1.046816479400749\n",
      "1304 lat_ratio: 0.9363081873224232\n",
      "1304 hitrate_ratio: 1.1177606177606179\n",
      "4889 lat_ratio: 0.9540968609612338\n",
      "4889 hitrate_ratio: 1.0733333333333333\n"
     ]
    }
   ],
   "source": [
    "tntids = set(ams_df[\"tntid\"])\n",
    "for base_df in [glob_df, maxmin_df, memshare_df]:\n",
    "    print(\"-\"*20)\n",
    "    avg_lat_ams = (ams_df[\"finish_ts\"]-ams_df[\"issue_ts\"]).mean()\n",
    "    avg_lat_base = (base_df[\"finish_ts\"]-base_df[\"issue_ts\"]).mean()\n",
    "    print(\"collective lat_ratio:\", avg_lat_ams/avg_lat_base)\n",
    "\n",
    "    hit_ams = len(ams_df[ams_df[\"hit\"] == True])\n",
    "    hit_base = len(base_df[base_df[\"hit\"] == True])\n",
    "    print(\"collective hitrate_ratio:\", hit_ams/hit_base)\n",
    "\n",
    "    for t in tntids:\n",
    "        ams_tdf = ams_df[ams_df[\"tntid\"] == t]\n",
    "        base_tdf = base_df[base_df[\"tntid\"] == t]\n",
    "        \n",
    "        avg_lat_ams = (ams_tdf[\"finish_ts\"]-ams_tdf[\"issue_ts\"]).mean()\n",
    "        avg_lat_base = (base_tdf[\"finish_ts\"]-base_tdf[\"issue_ts\"]).mean()\n",
    "        print(t, \"lat_ratio:\", avg_lat_ams/avg_lat_base)\n",
    "        \n",
    "        hit_ams = len(ams_tdf[ams_tdf[\"hit\"] == True])\n",
    "        hit_base = len(base_tdf[base_tdf[\"hit\"] == True])\n",
    "        print(t, \"hitrate_ratio:\", hit_ams/hit_base)"
   ]
  },
  {
   "cell_type": "code",
   "execution_count": 11,
   "metadata": {},
   "outputs": [
    {
     "name": "stdout",
     "output_type": "stream",
     "text": [
      "collective lat_ratio: 1.0152704898743894\n",
      "collective hitrate_ratio: 0.9977980035231944\n"
     ]
    }
   ],
   "source": [
    "avg_lat_ms = (memshare_df[\"finish_ts\"]-memshare_df[\"issue_ts\"]).mean()\n",
    "avg_lat_base = (glob_df[\"finish_ts\"]-glob_df[\"issue_ts\"]).mean()\n",
    "print(\"collective lat_ratio:\", avg_lat_ms/avg_lat_base)\n",
    "\n",
    "hit_ms = len(memshare_df[memshare_df[\"hit\"] == True])\n",
    "hit_base = len(glob_df[glob_df[\"hit\"] == True])\n",
    "print(\"collective hitrate_ratio:\", hit_ms/hit_base)"
   ]
  },
  {
   "cell_type": "code",
   "execution_count": null,
   "metadata": {},
   "outputs": [],
   "source": []
  }
 ],
 "metadata": {
  "kernelspec": {
   "display_name": "582",
   "language": "python",
   "name": "python3"
  },
  "language_info": {
   "codemirror_mode": {
    "name": "ipython",
    "version": 3
   },
   "file_extension": ".py",
   "mimetype": "text/x-python",
   "name": "python",
   "nbconvert_exporter": "python",
   "pygments_lexer": "ipython3",
   "version": "3.9.18"
  }
 },
 "nbformat": 4,
 "nbformat_minor": 2
}
