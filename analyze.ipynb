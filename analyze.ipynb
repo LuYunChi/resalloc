{
 "cells": [
  {
   "cell_type": "code",
   "execution_count": 1,
   "metadata": {},
   "outputs": [],
   "source": [
    "import pandas as pd\n",
    "import matplotlib.pyplot as plt"
   ]
  },
  {
   "cell_type": "code",
   "execution_count": 2,
   "metadata": {},
   "outputs": [],
   "source": [
    "WINDOW_SIZE = 5\n",
    "\n",
    "def get_lats(df, ws=WINDOW_SIZE):\n",
    "    max_t = df[\"finish_ts\"].max()\n",
    "    ts = [t for t in range(int(max_t)+2)]\n",
    "    lats = []\n",
    "    for t in ts:\n",
    "        d = df[(t-ws < df[\"finish_ts\"]) & (df[\"finish_ts\"] <= t)]\n",
    "        lat = (d[\"finish_ts\"]-d[\"issue_ts\"]).mean()\n",
    "        lats.append(lat)\n",
    "    return ts, lats\n",
    "\n",
    "\n",
    "def get_hrs(df, ws=WINDOW_SIZE):\n",
    "    max_t = df[\"finish_ts\"].max()\n",
    "    ts = [t for t in range(int(max_t)+2)]\n",
    "    hrs = []\n",
    "    for t in ts:\n",
    "        d = df[(t-ws < df[\"finish_ts\"]) & (df[\"finish_ts\"] <= t)]\n",
    "        h = len(d[d[\"hit\"] == True])/ws\n",
    "        hrs.append(h)\n",
    "    return ts, hrs"
   ]
  },
  {
   "cell_type": "code",
   "execution_count": 21,
   "metadata": {},
   "outputs": [],
   "source": [
    "TENANT_NUM = 10\n",
    "DURATION = 900\n",
    "\n",
    "ams_df = pd.read_csv(\n",
    "    f\"/home/yunchi/582/resalloc/results/selected_data_tenant{TENANT_NUM}_time0-{DURATION}_iter0_AMShare.csv\"\n",
    ")\n",
    "glob_df = pd.read_csv(\n",
    "    f\"/home/yunchi/582/resalloc/results/selected_data_tenant{TENANT_NUM}_time0-{DURATION}_iter0_GlobalLRU.csv\"\n",
    ")\n",
    "maxmin_df = pd.read_csv(\n",
    "    f\"/home/yunchi/582/resalloc/results/selected_data_tenant{TENANT_NUM}_time0-{DURATION}_iter0_Max-Min.csv\"\n",
    ")"
   ]
  },
  {
   "cell_type": "code",
   "execution_count": 22,
   "metadata": {},
   "outputs": [],
   "source": [
    "# base_df = maxmin_df\n",
    "base_df = glob_df"
   ]
  },
  {
   "cell_type": "code",
   "execution_count": 23,
   "metadata": {},
   "outputs": [
    {
     "name": "stdout",
     "output_type": "stream",
     "text": [
      "{2534, 4903, 5783, 3179, 2990, 1392, 2480, 2263, 1304, 4889}\n"
     ]
    }
   ],
   "source": [
    "tntids = set(ams_df[\"tntid\"])\n",
    "print(tntids)"
   ]
  },
  {
   "cell_type": "code",
   "execution_count": 17,
   "metadata": {},
   "outputs": [],
   "source": [
    "# tntid = 2534\n",
    "# comp = get_hrs\n",
    "# # comp = get_lats\n",
    "\n",
    "# ams_ts, ams_lats = comp(ams_df[ams_df[\"tntid\"] == tntid], WINDOW_SIZE)\n",
    "# base_ts, base_lats = comp(base_df[base_df[\"tntid\"] == tntid], WINDOW_SIZE)\n",
    "# len_t = min(len(ams_ts), len(base_ts))\n",
    "\n",
    "# lats_ratio = []\n",
    "# print(ams_lats[0])\n",
    "# for al, bl in zip(ams_lats[:len_t], base_lats[:len_t]):\n",
    "#     if bl:\n",
    "#         lats_ratio.append(al/bl)\n",
    "#     else:\n",
    "#         lats_ratio.append(0)\n",
    "# plt.scatter(list(range(len_t)), lats_ratio)\n",
    "# # plt.ylim(0, 2)"
   ]
  },
  {
   "cell_type": "code",
   "execution_count": 24,
   "metadata": {},
   "outputs": [
    {
     "name": "stdout",
     "output_type": "stream",
     "text": [
      "2534\n",
      "lat_ratio: 0.9561708004978748\n",
      "hitrate_ratio: 1.2651296829971181\n",
      "4903\n",
      "lat_ratio: 0.9765802910546819\n",
      "hitrate_ratio: 1.1631799163179917\n",
      "5783\n",
      "lat_ratio: 0.962513182620072\n",
      "hitrate_ratio: 1.2465753424657535\n",
      "3179\n",
      "lat_ratio: 0.9662088665931557\n",
      "hitrate_ratio: 1.180161943319838\n",
      "2990\n",
      "lat_ratio: 0.9706284558036303\n",
      "hitrate_ratio: 1.229665071770335\n",
      "1392\n",
      "lat_ratio: 0.9692201582823892\n",
      "hitrate_ratio: 1.2162162162162162\n",
      "2480\n",
      "lat_ratio: 0.9366061321481958\n",
      "hitrate_ratio: 1.4032786885245903\n",
      "2263\n",
      "lat_ratio: 0.9695375640223511\n",
      "hitrate_ratio: 1.2232558139534884\n",
      "1304\n",
      "lat_ratio: 0.970823154227958\n",
      "hitrate_ratio: 1.18359375\n",
      "4889\n",
      "lat_ratio: 0.9643295379111886\n",
      "hitrate_ratio: 1.2198067632850242\n"
     ]
    }
   ],
   "source": [
    "for t in tntids:\n",
    "    print(t)\n",
    "    ams_tdf = ams_df[ams_df[\"tntid\"] == t]\n",
    "    base_tdf = base_df[base_df[\"tntid\"] == t]\n",
    "    \n",
    "    avg_lat_ams = (ams_tdf[\"finish_ts\"]-ams_tdf[\"issue_ts\"]).mean()\n",
    "    avg_lat_base = (base_tdf[\"finish_ts\"]-base_tdf[\"issue_ts\"]).mean()\n",
    "    print(\"lat_ratio:\", avg_lat_ams/avg_lat_base)\n",
    "    \n",
    "    hit_ams = len(ams_tdf[ams_tdf[\"hit\"] == True])\n",
    "    hit_base = len(base_tdf[base_tdf[\"hit\"] == True])\n",
    "    print(\"hitrate_ratio:\", hit_ams/hit_base)"
   ]
  },
  {
   "cell_type": "code",
   "execution_count": null,
   "metadata": {},
   "outputs": [],
   "source": [
    "avg_lat_ams = (ams_df[\"finish_ts\"]-ams_df[\"issue_ts\"]).mean()\n",
    "avg_lat_base = (base_df[\"finish_ts\"]-base_df[\"issue_ts\"]).mean()\n",
    "print(\"lat_ratio:\", avg_lat_ams/avg_lat_base)\n",
    "\n",
    "hit_ams = len(ams_df[ams_df[\"hit\"] == True])\n",
    "hit_base = len(base_df[base_df[\"hit\"] == True])\n",
    "print(\"hitrate_ratio:\", hit_ams/hit_base)"
   ]
  }
 ],
 "metadata": {
  "kernelspec": {
   "display_name": "582",
   "language": "python",
   "name": "python3"
  },
  "language_info": {
   "codemirror_mode": {
    "name": "ipython",
    "version": 3
   },
   "file_extension": ".py",
   "mimetype": "text/x-python",
   "name": "python",
   "nbconvert_exporter": "python",
   "pygments_lexer": "ipython3",
   "version": "3.9.18"
  }
 },
 "nbformat": 4,
 "nbformat_minor": 2
}
